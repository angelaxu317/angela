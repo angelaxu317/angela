{
  "nbformat": 4,
  "nbformat_minor": 0,
  "metadata": {
    "colab": {
      "name": "exercise_python.ipynb",
      "provenance": []
    },
    "kernelspec": {
      "name": "python3",
      "display_name": "Python 3"
    }
  },
  "cells": [
    {
      "cell_type": "markdown",
      "metadata": {
        "id": "wqR0Q_PjsCJt",
        "colab_type": "text"
      },
      "source": [
        "#### Ex.1 Reverse the string \"the fox jumps over the lazy dog\""
      ]
    },
    {
      "cell_type": "code",
      "metadata": {
        "id": "SpZmIwgTsCkm",
        "colab_type": "code",
        "outputId": "17234f13-ae5a-4204-fba1-2ae9f6720c0a",
        "colab": {
          "base_uri": "https://localhost:8080/",
          "height": 35
        }
      },
      "source": [
        "a=\"the fox jumps over the lazy dog\"\n",
        "a"
      ],
      "execution_count": 0,
      "outputs": [
        {
          "output_type": "execute_result",
          "data": {
            "text/plain": [
              "'the fox jumps over the lazy dog'"
            ]
          },
          "metadata": {
            "tags": []
          },
          "execution_count": 1
        }
      ]
    },
    {
      "cell_type": "code",
      "metadata": {
        "id": "vMtqEDTRsCsa",
        "colab_type": "code",
        "outputId": "0e2bd5e0-2b9c-4424-f051-bd9693396c8a",
        "colab": {
          "base_uri": "https://localhost:8080/",
          "height": 35
        }
      },
      "source": [
        "a[::-1]"
      ],
      "execution_count": 0,
      "outputs": [
        {
          "output_type": "execute_result",
          "data": {
            "text/plain": [
              "'god yzal eht revo spmuj xof eht'"
            ]
          },
          "metadata": {
            "tags": []
          },
          "execution_count": 2
        }
      ]
    },
    {
      "cell_type": "code",
      "metadata": {
        "id": "vNfgEaGNsCvu",
        "colab_type": "code",
        "outputId": "5bbdf28b-773d-4215-c5df-9259cf62103b",
        "colab": {
          "base_uri": "https://localhost:8080/",
          "height": 35
        }
      },
      "source": [
        "#method 2\n",
        "''.join(x for x in reversed(a))"
      ],
      "execution_count": 0,
      "outputs": [
        {
          "output_type": "execute_result",
          "data": {
            "text/plain": [
              "'god yzal eht revo spmuj xof eht'"
            ]
          },
          "metadata": {
            "tags": []
          },
          "execution_count": 3
        }
      ]
    },
    {
      "cell_type": "code",
      "metadata": {
        "id": "Fs4FoGgRt6PP",
        "colab_type": "code",
        "outputId": "a22e36c3-b02e-449d-fde7-8a2199747bb7",
        "colab": {
          "base_uri": "https://localhost:8080/",
          "height": 35
        }
      },
      "source": [
        "#method 3\n",
        "''.join(a[-x] for x in range (1,len(a)+1))"
      ],
      "execution_count": 0,
      "outputs": [
        {
          "output_type": "execute_result",
          "data": {
            "text/plain": [
              "'god yzal eht revo spmuj xof eht'"
            ]
          },
          "metadata": {
            "tags": []
          },
          "execution_count": 4
        }
      ]
    },
    {
      "cell_type": "markdown",
      "metadata": {
        "id": "bC261M4Qumrn",
        "colab_type": "text"
      },
      "source": [
        "#### Ex. 2 identify all words that are palindromes"
      ]
    },
    {
      "cell_type": "code",
      "metadata": {
        "id": "8f92QIDJt_SD",
        "colab_type": "code",
        "colab": {}
      },
      "source": [
        "a= \"Lol, this is a gag, I didn't laugh so much in a lone time\""
      ],
      "execution_count": 0,
      "outputs": []
    },
    {
      "cell_type": "code",
      "metadata": {
        "id": "jq74mcDdt_U-",
        "colab_type": "code",
        "colab": {}
      },
      "source": [
        "def isPalindrome(word:str) -> bool:\n",
        "  if word==word[::-1]:\n",
        "    return True\n",
        "  return False\n",
        "\n",
        "def getPalindromesFromStr(inputStr:str) -> list:\n",
        "  cleanStr=inputStr.replace(\",\",\"\").lower()\n",
        "  words=set(cleanStr.split(\" \"))\n",
        "  wPalindromes=[\n",
        "                word for word in words\n",
        "                if isPalindrome(word) and word != \"\" \n",
        "  ]\n",
        "  return wPalindromes"
      ],
      "execution_count": 0,
      "outputs": []
    },
    {
      "cell_type": "code",
      "metadata": {
        "id": "ZZRiAJT2t_ev",
        "colab_type": "code",
        "outputId": "9acc5138-632c-4cd9-eafe-3f2b3f1f3d7c",
        "colab": {
          "base_uri": "https://localhost:8080/",
          "height": 35
        }
      },
      "source": [
        "getPalindromesFromStr(a)"
      ],
      "execution_count": 0,
      "outputs": [
        {
          "output_type": "execute_result",
          "data": {
            "text/plain": [
              "['lol', 'gag', 'i', 'a']"
            ]
          },
          "metadata": {
            "tags": []
          },
          "execution_count": 18
        }
      ]
    },
    {
      "cell_type": "markdown",
      "metadata": {
        "id": "vuydQuYWy_mc",
        "colab_type": "text"
      },
      "source": [
        "#### Ex.3 FizzBuzz"
      ]
    },
    {
      "cell_type": "code",
      "metadata": {
        "id": "3n02WFrRwJ2S",
        "colab_type": "code",
        "colab": {}
      },
      "source": [
        "for i in range(1,51):\n",
        "  print(i)"
      ],
      "execution_count": 0,
      "outputs": []
    },
    {
      "cell_type": "code",
      "metadata": {
        "id": "6BEOFFEnwJ6c",
        "colab_type": "code",
        "colab": {}
      },
      "source": [
        "for i in range(1,51):\n",
        "  if i%2==0 and i%3==0:\n",
        "    print(\"FizzBuzz\")\n",
        "  elif i%2==0:\n",
        "    print(\"Fizz\")\n",
        "  elif i%3==0:\n",
        "    print(\"Buzz\")\n",
        "  else:\n",
        "    print(i)"
      ],
      "execution_count": 0,
      "outputs": []
    },
    {
      "cell_type": "code",
      "metadata": {
        "id": "5Fd-x2BD3NLa",
        "colab_type": "code",
        "colab": {}
      },
      "source": [
        "def fb(i):\n",
        "  for i in range(1,51):\n",
        "    if i%2==0 and i%3==0:\n",
        "      print(\"FizzBuzz\")\n",
        "    elif i%2==0:\n",
        "      print(\"Fizz\")\n",
        "    elif i%3==0:\n",
        "      print(\"Buzz\")\n",
        "    else:\n",
        "      print(i)"
      ],
      "execution_count": 0,
      "outputs": []
    },
    {
      "cell_type": "code",
      "metadata": {
        "id": "6-8EfvHz3VzI",
        "colab_type": "code",
        "colab": {}
      },
      "source": [
        "fb(range(1,51))"
      ],
      "execution_count": 0,
      "outputs": []
    },
    {
      "cell_type": "code",
      "metadata": {
        "id": "XMSfeCGswJ_W",
        "colab_type": "code",
        "colab": {}
      },
      "source": [
        "#method 2\n",
        "def fizzbuzzfn(num) ->str:\n",
        "  mod_2=(num%2==0)\n",
        "  mod_3=(num%3==0)\n",
        "  if(mod_2 or mod_3):\n",
        "    return(mod_2*'Fizz')+(mod_3*'Buzz')\n",
        "  return str(num)"
      ],
      "execution_count": 0,
      "outputs": []
    },
    {
      "cell_type": "code",
      "metadata": {
        "id": "fq-2ysJHwKQX",
        "colab_type": "code",
        "colab": {}
      },
      "source": [
        "print('\\n'.join([fizzbuzzfn(x) for x in range(1,51)]))"
      ],
      "execution_count": 0,
      "outputs": []
    },
    {
      "cell_type": "markdown",
      "metadata": {
        "id": "Obu9-bLh3lmW",
        "colab_type": "text"
      },
      "source": [
        "#### Ex.4 First Duplicate word"
      ]
    },
    {
      "cell_type": "code",
      "metadata": {
        "id": "h8JBVaaK3jys",
        "colab_type": "code",
        "outputId": "fc70397a-655c-41d5-8986-60a2bddf595d",
        "colab": {
          "base_uri": "https://localhost:8080/",
          "height": 35
        }
      },
      "source": [
        "string = \"this is just a wonder, wonder why do I have this in mind\"\n",
        "def firstduplicate(string: str) -> str:\n",
        "    import re\n",
        "    cleanStr = re.sub(\"[^a-zA-Z -]\", \"\", string)\n",
        "    \n",
        "    words = cleanStr.lower().split(\" \")\n",
        "    seen_words = set()\n",
        "    for word in words:\n",
        "        if word in seen_words:\n",
        "            return word\n",
        "        else: \n",
        "            seen_words.add(word)\n",
        "    return None\n",
        "firstduplicate(string)"
      ],
      "execution_count": 0,
      "outputs": [
        {
          "output_type": "execute_result",
          "data": {
            "text/plain": [
              "'wonder'"
            ]
          },
          "metadata": {
            "tags": []
          },
          "execution_count": 47
        }
      ]
    },
    {
      "cell_type": "markdown",
      "metadata": {
        "id": "BvJ32jscHE2T",
        "colab_type": "text"
      },
      "source": [
        "#### Ex.5 Find the first word with more then 2 duplicates in a string"
      ]
    },
    {
      "cell_type": "code",
      "metadata": {
        "id": "boRUnf-SG7ax",
        "colab_type": "code",
        "outputId": "9457d77f-4fc7-4c40-afb3-6d7602894687",
        "colab": {
          "base_uri": "https://localhost:8080/",
          "height": 35
        }
      },
      "source": [
        "string = \"this is just a wonder, wonder why do I have this in mind. This is all that matters.\"\n",
        "def first2timesduplicate(string: str) -> str:\n",
        "    import re\n",
        "    cleanStr = re.sub(\"[^a-zA-Z -]\", \"\", string)\n",
        "    \n",
        "    words = cleanStr.lower().split(\" \")\n",
        "    seen_words = dict()\n",
        "    for word in words:\n",
        "        previous_count = seen_words.get(word, 0)\n",
        "        seen_words[word] = previous_count + 1\n",
        "        if previous_count >= 2:\n",
        "            return word\n",
        "    return None\n",
        "first2timesduplicate(string)"
      ],
      "execution_count": 0,
      "outputs": [
        {
          "output_type": "execute_result",
          "data": {
            "text/plain": [
              "'this'"
            ]
          },
          "metadata": {
            "tags": []
          },
          "execution_count": 3
        }
      ]
    },
    {
      "cell_type": "markdown",
      "metadata": {
        "id": "zAobqj-jJQGF",
        "colab_type": "text"
      },
      "source": [
        "#### Ex.6 Replicate the sum for any number of variables, eg sum(1,2,3,4,5...)"
      ]
    },
    {
      "cell_type": "code",
      "metadata": {
        "id": "nJoAEhkb3j5l",
        "colab_type": "code",
        "colab": {}
      },
      "source": [
        "def sum(*args):\n",
        "  val=0\n",
        "  for arg in args:    \n",
        "    val+=arg\n",
        "  return val"
      ],
      "execution_count": 0,
      "outputs": []
    },
    {
      "cell_type": "code",
      "metadata": {
        "id": "ptZv0Z1L3j8p",
        "colab_type": "code",
        "outputId": "7e5265b1-ddbc-45c8-ee66-4921d9adfa70",
        "colab": {
          "base_uri": "https://localhost:8080/",
          "height": 35
        }
      },
      "source": [
        "sum(1,2,3)"
      ],
      "execution_count": 0,
      "outputs": [
        {
          "output_type": "execute_result",
          "data": {
            "text/plain": [
              "6"
            ]
          },
          "metadata": {
            "tags": []
          },
          "execution_count": 6
        }
      ]
    },
    {
      "cell_type": "markdown",
      "metadata": {
        "id": "ukfU-QkgKevV",
        "colab_type": "text"
      },
      "source": [
        "#### Ex.7 Fibonacci sequences: write a function that gives the sum of all fibonacci numbers from 0 to n"
      ]
    },
    {
      "cell_type": "code",
      "metadata": {
        "id": "i30cjfkr3j_3",
        "colab_type": "code",
        "colab": {}
      },
      "source": [
        "def fibonacci(n:int)->int:\n",
        "  if n<=0:\n",
        "    return 0\n",
        "  if n==1:\n",
        "    return 1\n",
        "  else:\n",
        "    return fibonacci(n-1)+fibonacci(n-2)\n",
        " \n",
        "  def naiveFibSum(n:int) ->int:\n",
        "    return sum([Fibonacci(x) for x in range (0, n+1)])\n",
        "\n",
        "def sumFib(n:int)->int:\n",
        "  return fibonacci(n+2)-1"
      ],
      "execution_count": 0,
      "outputs": []
    },
    {
      "cell_type": "code",
      "metadata": {
        "id": "-SCTwQ7B3kDC",
        "colab_type": "code",
        "colab": {
          "base_uri": "https://localhost:8080/",
          "height": 34
        },
        "outputId": "629ef26c-e410-49f0-d81a-5b810b01a8ab"
      },
      "source": [
        "fibonacci(3)"
      ],
      "execution_count": 3,
      "outputs": [
        {
          "output_type": "execute_result",
          "data": {
            "text/plain": [
              "2"
            ]
          },
          "metadata": {
            "tags": []
          },
          "execution_count": 3
        }
      ]
    },
    {
      "cell_type": "markdown",
      "metadata": {
        "id": "Qg5DRTjlHWJU",
        "colab_type": "text"
      },
      "source": [
        "#### Ex. 8. Write a program that prints the numbers from 1 to 100. But for multiples of three print \"Fizz\" instead of number and for multiples of five print \"Buzz\". For numbers which are multiples of both three and five print\"FizzBuzz\"."
      ]
    },
    {
      "cell_type": "code",
      "metadata": {
        "id": "-RZzb4YswJyc",
        "colab_type": "code",
        "colab": {
          "base_uri": "https://localhost:8080/",
          "height": 1000
        },
        "outputId": "2318694b-7d76-4b83-aa00-d735e6c2b310"
      },
      "source": [
        "for k in range(1,101,1):\n",
        "  if k %3 ==0 and  k % 5 ==0:\n",
        "    print(\"FizzBuzz\") \n",
        "  elif k % 5==0: \n",
        "    print ('Buzz')\n",
        "  elif k % 3 ==0: \n",
        "    print ('Fizz')\n",
        "  else:\n",
        "    print (k)"
      ],
      "execution_count": 4,
      "outputs": [
        {
          "output_type": "stream",
          "text": [
            "1\n",
            "2\n",
            "Fizz\n",
            "4\n",
            "Buzz\n",
            "Fizz\n",
            "7\n",
            "8\n",
            "Fizz\n",
            "Buzz\n",
            "11\n",
            "Fizz\n",
            "13\n",
            "14\n",
            "FizzBuzz\n",
            "16\n",
            "17\n",
            "Fizz\n",
            "19\n",
            "Buzz\n",
            "Fizz\n",
            "22\n",
            "23\n",
            "Fizz\n",
            "Buzz\n",
            "26\n",
            "Fizz\n",
            "28\n",
            "29\n",
            "FizzBuzz\n",
            "31\n",
            "32\n",
            "Fizz\n",
            "34\n",
            "Buzz\n",
            "Fizz\n",
            "37\n",
            "38\n",
            "Fizz\n",
            "Buzz\n",
            "41\n",
            "Fizz\n",
            "43\n",
            "44\n",
            "FizzBuzz\n",
            "46\n",
            "47\n",
            "Fizz\n",
            "49\n",
            "Buzz\n",
            "Fizz\n",
            "52\n",
            "53\n",
            "Fizz\n",
            "Buzz\n",
            "56\n",
            "Fizz\n",
            "58\n",
            "59\n",
            "FizzBuzz\n",
            "61\n",
            "62\n",
            "Fizz\n",
            "64\n",
            "Buzz\n",
            "Fizz\n",
            "67\n",
            "68\n",
            "Fizz\n",
            "Buzz\n",
            "71\n",
            "Fizz\n",
            "73\n",
            "74\n",
            "FizzBuzz\n",
            "76\n",
            "77\n",
            "Fizz\n",
            "79\n",
            "Buzz\n",
            "Fizz\n",
            "82\n",
            "83\n",
            "Fizz\n",
            "Buzz\n",
            "86\n",
            "Fizz\n",
            "88\n",
            "89\n",
            "FizzBuzz\n",
            "91\n",
            "92\n",
            "Fizz\n",
            "94\n",
            "Buzz\n",
            "Fizz\n",
            "97\n",
            "98\n",
            "Fizz\n",
            "Buzz\n"
          ],
          "name": "stdout"
        }
      ]
    },
    {
      "cell_type": "markdown",
      "metadata": {
        "id": "4DImjl4RHlu_",
        "colab_type": "text"
      },
      "source": [
        "#### Ex.2 Fibonacci Series:  A series of number in which each number (Fibonacci number) is the sum of the two preceding numbers. The simplest is the series 1,1,2,3,5,8, ect."
      ]
    },
    {
      "cell_type": "code",
      "metadata": {
        "id": "44ZXs7aPHeTS",
        "colab_type": "code",
        "colab": {
          "base_uri": "https://localhost:8080/",
          "height": 34
        },
        "outputId": "1a24902e-4872-406f-a17f-0af2cd59925a"
      },
      "source": [
        "# method 1 use recursion\n",
        "def Fibonacci(n):\n",
        "  if n<0:\n",
        "    print(\"Incorrect input\")\n",
        "  elif n==1:\n",
        "    return 0\n",
        "  elif n==2:\n",
        "    return 1 \n",
        "  else:\n",
        "    return Fibonacci(n-1) + Fibonacci(n-2)\n",
        "print(Fibonacci(9))"
      ],
      "execution_count": 5,
      "outputs": [
        {
          "output_type": "stream",
          "text": [
            "21\n"
          ],
          "name": "stdout"
        }
      ]
    },
    {
      "cell_type": "code",
      "metadata": {
        "id": "5kbKuLx7HsbK",
        "colab_type": "code",
        "colab": {
          "base_uri": "https://localhost:8080/",
          "height": 34
        },
        "outputId": "8220efa7-9ee4-4286-8dbe-c9b656e9937d"
      },
      "source": [
        "#method 2 (Use Dynamic Programming)\n",
        "FibArray=[0,1]\n",
        "def f2(n):\n",
        "  if n<0:\n",
        "    print(\"Incorrect input\")\n",
        "  elif n<=len(FibArray):\n",
        "    return FibArray[n-1]\n",
        "  else:\n",
        "    temp_fib=f2(n-1)+f2(n-2)\n",
        "    FibArray.append(temp_fib)\n",
        "    return temp_fib\n",
        "print(f2(9))"
      ],
      "execution_count": 6,
      "outputs": [
        {
          "output_type": "stream",
          "text": [
            "21\n"
          ],
          "name": "stdout"
        }
      ]
    },
    {
      "cell_type": "code",
      "metadata": {
        "id": "PzMJbzmoHtJP",
        "colab_type": "code",
        "colab": {
          "base_uri": "https://localhost:8080/",
          "height": 34
        },
        "outputId": "dc731b18-a226-48f6-be90-ed91b314962a"
      },
      "source": [
        "#Method 3 (space Optimized)\n",
        "def f3(n):\n",
        "  a=0\n",
        "  b=1\n",
        "  if n<0:\n",
        "    print(\"Incorrect input\")\n",
        "  elif n==0:\n",
        "    return a\n",
        "  elif n==1:\n",
        "    return b\n",
        "  else: \n",
        "    for i in range(2,n):\n",
        "      c=a+b\n",
        "      a=b\n",
        "      b=c\n",
        "    return b\n",
        "print(f3(9))"
      ],
      "execution_count": 7,
      "outputs": [
        {
          "output_type": "stream",
          "text": [
            "21\n"
          ],
          "name": "stdout"
        }
      ]
    },
    {
      "cell_type": "code",
      "metadata": {
        "id": "sgQiCd7pHtMg",
        "colab_type": "code",
        "colab": {}
      },
      "source": [
        ""
      ],
      "execution_count": 0,
      "outputs": []
    },
    {
      "cell_type": "code",
      "metadata": {
        "id": "gwi6xMwqHtP0",
        "colab_type": "code",
        "colab": {}
      },
      "source": [
        ""
      ],
      "execution_count": 0,
      "outputs": []
    },
    {
      "cell_type": "code",
      "metadata": {
        "id": "5gfcgKDlHtSt",
        "colab_type": "code",
        "colab": {}
      },
      "source": [
        ""
      ],
      "execution_count": 0,
      "outputs": []
    }
  ]
}