{
 "cells": [
  {
   "cell_type": "code",
   "execution_count": 1,
   "metadata": {},
   "outputs": [],
   "source": [
    "#PCA principle component analysis\n",
    "#import libraries\n",
    "import pandas as pd\n",
    "import numpy as np\n",
    "import random as rd\n",
    "from sklearn.decomposition import PCA\n",
    "from sklearn import preprocessing\n",
    "import matplotlib.pyplot as plt"
   ]
  },
  {
   "cell_type": "code",
   "execution_count": 4,
   "metadata": {},
   "outputs": [],
   "source": [
    "#generate an array of 100 gene names\n",
    "genes=['gene'+ str(i) for i in range(1,101)]\n",
    "#'gene1' through 'gene100'"
   ]
  },
  {
   "cell_type": "code",
   "execution_count": 6,
   "metadata": {},
   "outputs": [],
   "source": [
    "#create arraies of sample names\n",
    "wt=['wt'+str(i) for i in range(1,6)]\n",
    "ko=['ko'+str(i) for i in range (1,6)]"
   ]
  },
  {
   "cell_type": "code",
   "execution_count": 8,
   "metadata": {},
   "outputs": [
    {
     "data": {
      "text/plain": [
       "['wt1', 'wt2', 'wt3', 'wt4', 'wt5']"
      ]
     },
     "execution_count": 8,
     "metadata": {},
     "output_type": "execute_result"
    }
   ],
   "source": [
    "wt"
   ]
  },
  {
   "cell_type": "code",
   "execution_count": 10,
   "metadata": {},
   "outputs": [],
   "source": [
    "data=pd.DataFrame(columns=[*wt, *ko], index=genes)\n",
    "#the 'stars' unpack the \"wt\" and \"ko\" arrays so that the column names are single array\n",
    "#like wt1,wt2..."
   ]
  },
  {
   "cell_type": "code",
   "execution_count": 11,
   "metadata": {},
   "outputs": [],
   "source": [
    "for gene in data.index:\n",
    "    data.loc[gene,'wt1':'wt5']=np.random.poisson(lam=rd.randrange(10,1000), size=5)\n",
    "    data.loc[gene,'ko1':'ko5']=np.random.poisson(lam=rd.randrange(10,1000), size=5)"
   ]
  },
  {
   "cell_type": "code",
   "execution_count": 14,
   "metadata": {},
   "outputs": [
    {
     "name": "stdout",
     "output_type": "stream",
     "text": [
      "       wt1  wt2  wt3  wt4  wt5  ko1  ko2  ko3  ko4  ko5\n",
      "gene1  244  238  283  272  236  930  940  952  891  948\n",
      "gene2  394  373  389  394  351  249  231  217  217  229\n",
      "gene3  459  436  460  445  431  795  845  832  867  870\n",
      "gene4  161  156  172  174  157  547  577  566  522  538\n",
      "gene5  508  494  490  479  483  622  661  644  661  632\n"
     ]
    }
   ],
   "source": [
    "print(data.head())"
   ]
  },
  {
   "cell_type": "code",
   "execution_count": 13,
   "metadata": {},
   "outputs": [
    {
     "name": "stdout",
     "output_type": "stream",
     "text": [
      "(100, 10)\n"
     ]
    }
   ],
   "source": [
    "print(data.shape)"
   ]
  },
  {
   "cell_type": "code",
   "execution_count": 16,
   "metadata": {},
   "outputs": [],
   "source": [
    "#before we do PCA we have to center and scale the data\n",
    "#after centering, the average value for each gene will be 0\n",
    "#after scaling the standard deviation for the values for each gene will be 1\n",
    "#passing the transpose of data\n",
    "#the scale function expects the samples to be rows instead of columns\n",
    "#other way to do this is: StandardScaler().fit_transform(data.T)\n",
    "#in R use prcomp\n",
    "scaled_data=preprocessing.scale(data.T)"
   ]
  },
  {
   "cell_type": "code",
   "execution_count": 17,
   "metadata": {},
   "outputs": [],
   "source": [
    "#Notes:\n",
    "#in sklearn variation is calculated as:\n",
    "#(measurements -mean)^2 / (the number of measurements)\n",
    "#in R using scale() or prcomp() variation is calculatd as:\n",
    "#(measurements -mean)^2 / (the number of measurements -1)\n",
    "#this method results in larger unbiased estimates of the variation\n",
    "#these differences do not effect the PCA analysis\n",
    "#the loading scores and the amount of variation per principal component will be the same"
   ]
  },
  {
   "cell_type": "code",
   "execution_count": 18,
   "metadata": {},
   "outputs": [],
   "source": [
    "#create a PCA object\n",
    "pca=PCA()"
   ]
  },
  {
   "cell_type": "code",
   "execution_count": 19,
   "metadata": {},
   "outputs": [
    {
     "data": {
      "text/plain": [
       "PCA(copy=True, iterated_power='auto', n_components=None, random_state=None,\n",
       "    svd_solver='auto', tol=0.0, whiten=False)"
      ]
     },
     "execution_count": 19,
     "metadata": {},
     "output_type": "execute_result"
    }
   ],
   "source": [
    "pca.fit(scaled_data)"
   ]
  },
  {
   "cell_type": "code",
   "execution_count": 20,
   "metadata": {},
   "outputs": [],
   "source": [
    "pca_data=pca.transform(scaled_data)\n",
    "#generate coordinates for a PCA graph based on the loading scores and the scaled data"
   ]
  },
  {
   "cell_type": "code",
   "execution_count": 21,
   "metadata": {},
   "outputs": [],
   "source": [
    "#fro graph\n",
    "#calculate the percentage of variation that each principal component accounts for\n",
    "per_var=np.round(pca.explained_variance_ratio_*100,decimals=1)"
   ]
  },
  {
   "cell_type": "code",
   "execution_count": 23,
   "metadata": {},
   "outputs": [],
   "source": [
    "labels=['PC'+str(x) for x in range(1,len(per_var)+1)]"
   ]
  },
  {
   "cell_type": "code",
   "execution_count": 24,
   "metadata": {},
   "outputs": [
    {
     "data": {
      "image/png": "[encoded data removed]",
      "text/plain": [
       "<Figure size 432x288 with 1 Axes>"
      ]
     },
     "metadata": {
      "needs_background": "light"
     },
     "output_type": "display_data"
    }
   ],
   "source": [
    "plt.bar(x=range(1,len(per_var)+1),height=per_var,tick_label=labels)\n",
    "plt.ylabel('Percentage of Explained Variance')\n",
    "plt.xlabel('Principle Component')\n",
    "plt.title('Scree Plot')\n",
    "plt.show()"
   ]
  },
  {
   "cell_type": "code",
   "execution_count": 26,
   "metadata": {},
   "outputs": [],
   "source": [
    "pca_df=pd.DataFrame(pca_data,index=[*wt,*ko],columns=labels)\n",
    "#to draw a PCA plot fist put the new coordinates into a matrix \n",
    "#rows have sample labels and columns have PC labels"
   ]
  },
  {
   "cell_type": "code",
   "execution_count": 30,
   "metadata": {},
   "outputs": [
    {
     "data": {
      "image/png": "[encoded data removed]",
      "text/plain": [
       "<Figure size 432x288 with 1 Axes>"
      ]
     },
     "metadata": {
      "needs_background": "light"
     },
     "output_type": "display_data"
    }
   ],
   "source": [
    "#only use PC1 and PC2 to draw\n",
    "plt.scatter(pca_df.PC1, pca_df.PC2)\n",
    "plt.title('My PCA Graph')\n",
    "plt.xlabel('PC1 - {0}%'.format(per_var[0]))\n",
    "plt.ylabel('PC2 - {0}%'.format(per_var[1]))\n",
    "\n",
    "for sample in pca_df.index:\n",
    "    plt.annotate(sample,(pca_df.PC1.loc[sample],pca_df.PC2.loc[sample]))\n",
    "\n",
    "plt.show()"
   ]
  },
  {
   "cell_type": "code",
   "execution_count": 31,
   "metadata": {},
   "outputs": [],
   "source": [
    "#lastly, let's look ar the loading scores for PC1 to determine which genes had the \n",
    "#largest influence on separating the two clusters along the x-axis\n",
    "#creating a pandas \"Series\" object with the loading scores in PC1\n",
    "#princple component are zero-indexed, so PC1=0\n",
    "loading_scores=pd.Series(pca.components_[0], index=genes)"
   ]
  },
  {
   "cell_type": "code",
   "execution_count": 32,
   "metadata": {},
   "outputs": [],
   "source": [
    "#sort the loading scores based on their magnitude (absolute value)\n",
    "sorted_loading_scores=loading_scores.abs().sort_values(ascending=False)"
   ]
  },
  {
   "cell_type": "code",
   "execution_count": 33,
   "metadata": {},
   "outputs": [
    {
     "name": "stdout",
     "output_type": "stream",
     "text": [
      "gene78   -0.105107\n",
      "gene32   -0.105033\n",
      "gene46   -0.105010\n",
      "gene37    0.104998\n",
      "gene87    0.104998\n",
      "gene82    0.104998\n",
      "gene83   -0.104996\n",
      "gene80   -0.104994\n",
      "gene70   -0.104991\n",
      "gene64    0.104983\n",
      "dtype: float64\n"
     ]
    }
   ],
   "source": [
    "#getting the names of the top 10 indexed (which are the gene names)\n",
    "top_10_genes=sorted_loading_scores[0:10].index.values\n",
    "print(loading_scores[top_10_genes])"
   ]
  },
  {
   "cell_type": "code",
   "execution_count": null,
   "metadata": {},
   "outputs": [],
   "source": []
  }
 ],
 "metadata": {
  "kernelspec": {
   "display_name": "Python 3",
   "language": "python",
   "name": "python3"
  },
  "language_info": {
   "codemirror_mode": {
    "name": "ipython",
    "version": 3
   },
   "file_extension": ".py",
   "mimetype": "text/x-python",
   "name": "python",
   "nbconvert_exporter": "python",
   "pygments_lexer": "ipython3",
   "version": "3.7.4"
  }
 },
 "nbformat": 4,
 "nbformat_minor": 2
}
