{
  "nbformat": 4,
  "nbformat_minor": 0,
  "metadata": {
    "colab": {
      "name": "Data_Manipulation_numpy_array.ipynb",
      "provenance": [],
      "collapsed_sections": []
    },
    "kernelspec": {
      "name": "python3",
      "display_name": "Python 3"
    }
  },
  "cells": [
    {
      "cell_type": "markdown",
      "metadata": {
        "id": "gPOg5RQ1t-zC",
        "colab_type": "text"
      },
      "source": [
        "### Test out some basic functions in Numpy "
      ]
    },
    {
      "cell_type": "code",
      "metadata": {
        "id": "vFr9CtE0Wo9p",
        "colab_type": "code",
        "outputId": "87032b09-8ad4-4617-c287-4a9dc30ece7f",
        "colab": {
          "base_uri": "https://localhost:8080/",
          "height": 34
        }
      },
      "source": [
        "#load the library and check its version\n",
        "import numpy as np\n",
        "np.__version__"
      ],
      "execution_count": 0,
      "outputs": [
        {
          "output_type": "execute_result",
          "data": {
            "text/plain": [
              "'1.17.4'"
            ]
          },
          "metadata": {
            "tags": []
          },
          "execution_count": 1
        }
      ]
    },
    {
      "cell_type": "code",
      "metadata": {
        "id": "EcsEb3tWWpEg",
        "colab_type": "code",
        "outputId": "e8ff2f0d-8cde-4fe0-884f-b236adf4a60d",
        "colab": {
          "base_uri": "https://localhost:8080/",
          "height": 34
        }
      },
      "source": [
        "#create a list with numbers from 0 to 9\n",
        "L=list(range(10))\n",
        "L"
      ],
      "execution_count": 0,
      "outputs": [
        {
          "output_type": "execute_result",
          "data": {
            "text/plain": [
              "[0, 1, 2, 3, 4, 5, 6, 7, 8, 9]"
            ]
          },
          "metadata": {
            "tags": []
          },
          "execution_count": 9
        }
      ]
    },
    {
      "cell_type": "code",
      "metadata": {
        "id": "gdCLtWZ5WpHp",
        "colab_type": "code",
        "outputId": "90618f37-63ea-4022-9e57-f24db8ea430e",
        "colab": {
          "base_uri": "https://localhost:8080/",
          "height": 34
        }
      },
      "source": [
        "#converting integers to string\n",
        "S=[str(s) for s in L]\n",
        "S"
      ],
      "execution_count": 0,
      "outputs": [
        {
          "output_type": "execute_result",
          "data": {
            "text/plain": [
              "['0', '1', '2', '3', '4', '5', '6', '7', '8', '9']"
            ]
          },
          "metadata": {
            "tags": []
          },
          "execution_count": 13
        }
      ]
    },
    {
      "cell_type": "code",
      "metadata": {
        "id": "C1Vd7z1oWpLA",
        "colab_type": "code",
        "outputId": "3c4170a4-193e-410b-826e-03d2e5bbf322",
        "colab": {
          "base_uri": "https://localhost:8080/",
          "height": 34
        }
      },
      "source": [
        "#get the types\n",
        "[type(l) for l in L]"
      ],
      "execution_count": 0,
      "outputs": [
        {
          "output_type": "execute_result",
          "data": {
            "text/plain": [
              "[int, int, int, int, int, int, int, int, int, int]"
            ]
          },
          "metadata": {
            "tags": []
          },
          "execution_count": 11
        }
      ]
    },
    {
      "cell_type": "code",
      "metadata": {
        "id": "whSm5qerWpOK",
        "colab_type": "code",
        "outputId": "3ed59aff-674c-4f2c-ebd2-58d46dca9dfb",
        "colab": {
          "base_uri": "https://localhost:8080/",
          "height": 34
        }
      },
      "source": [
        "[type(s) for s in S]"
      ],
      "execution_count": 0,
      "outputs": [
        {
          "output_type": "execute_result",
          "data": {
            "text/plain": [
              "[str, str, str, str, str, str, str, str, str, str]"
            ]
          },
          "metadata": {
            "tags": []
          },
          "execution_count": 14
        }
      ]
    },
    {
      "cell_type": "markdown",
      "metadata": {
        "id": "Qxae_rouwyGl",
        "colab_type": "text"
      },
      "source": [
        "### Arrays"
      ]
    },
    {
      "cell_type": "markdown",
      "metadata": {
        "id": "2HIrjFzWToCQ",
        "colab_type": "text"
      },
      "source": [
        "##### Creating Array"
      ]
    },
    {
      "cell_type": "code",
      "metadata": {
        "id": "sPZYaIbWwymZ",
        "colab_type": "code",
        "outputId": "f2357d22-de1b-4f58-f11a-740f629aa55b",
        "colab": {
          "base_uri": "https://localhost:8080/",
          "height": 34
        }
      },
      "source": [
        "#creating arrays\n",
        "np.zeros(10)"
      ],
      "execution_count": 0,
      "outputs": [
        {
          "output_type": "execute_result",
          "data": {
            "text/plain": [
              "array([0., 0., 0., 0., 0., 0., 0., 0., 0., 0.])"
            ]
          },
          "metadata": {
            "tags": []
          },
          "execution_count": 3
        }
      ]
    },
    {
      "cell_type": "code",
      "metadata": {
        "id": "Nh5c05HTwypj",
        "colab_type": "code",
        "outputId": "5a36d47d-178d-4793-b75f-dbe88464f306",
        "colab": {
          "base_uri": "https://localhost:8080/",
          "height": 34
        }
      },
      "source": [
        "np.zeros (10, dtype='int')"
      ],
      "execution_count": 0,
      "outputs": [
        {
          "output_type": "execute_result",
          "data": {
            "text/plain": [
              "array([0, 0, 0, 0, 0, 0, 0, 0, 0, 0])"
            ]
          },
          "metadata": {
            "tags": []
          },
          "execution_count": 4
        }
      ]
    },
    {
      "cell_type": "code",
      "metadata": {
        "id": "UJHI0YCAwywE",
        "colab_type": "code",
        "outputId": "55f40126-8806-41e7-aae1-88cbc899caaf",
        "colab": {
          "base_uri": "https://localhost:8080/",
          "height": 85
        }
      },
      "source": [
        "#create a 4 row 5 column matrix\n",
        "np.ones((4,6),dtype=float)"
      ],
      "execution_count": 0,
      "outputs": [
        {
          "output_type": "execute_result",
          "data": {
            "text/plain": [
              "array([[1., 1., 1., 1., 1., 1.],\n",
              "       [1., 1., 1., 1., 1., 1.],\n",
              "       [1., 1., 1., 1., 1., 1.],\n",
              "       [1., 1., 1., 1., 1., 1.]])"
            ]
          },
          "metadata": {
            "tags": []
          },
          "execution_count": 5
        }
      ]
    },
    {
      "cell_type": "code",
      "metadata": {
        "id": "Fh-SlttCwyzy",
        "colab_type": "code",
        "outputId": "c1ce2556-46b8-4116-889e-6089f1a8af92",
        "colab": {
          "base_uri": "https://localhost:8080/",
          "height": 68
        }
      },
      "source": [
        "#create a matrix with a predefined value\n",
        "np.full((3,5),3.14)"
      ],
      "execution_count": 0,
      "outputs": [
        {
          "output_type": "execute_result",
          "data": {
            "text/plain": [
              "array([[3.14, 3.14, 3.14, 3.14, 3.14],\n",
              "       [3.14, 3.14, 3.14, 3.14, 3.14],\n",
              "       [3.14, 3.14, 3.14, 3.14, 3.14]])"
            ]
          },
          "metadata": {
            "tags": []
          },
          "execution_count": 6
        }
      ]
    },
    {
      "cell_type": "code",
      "metadata": {
        "id": "0j1N14Fpwy3I",
        "colab_type": "code",
        "outputId": "cdf281fa-6c14-477d-8a91-dcdf4002fca1",
        "colab": {
          "base_uri": "https://localhost:8080/",
          "height": 34
        }
      },
      "source": [
        "#create an array with a set sequence\n",
        "np.arange(0,10,2)"
      ],
      "execution_count": 0,
      "outputs": [
        {
          "output_type": "execute_result",
          "data": {
            "text/plain": [
              "array([0, 2, 4, 6, 8])"
            ]
          },
          "metadata": {
            "tags": []
          },
          "execution_count": 7
        }
      ]
    },
    {
      "cell_type": "code",
      "metadata": {
        "id": "YRsOdZ4wLtBT",
        "colab_type": "code",
        "outputId": "c8f933eb-4725-4105-c02a-8b4319fd1423",
        "colab": {
          "base_uri": "https://localhost:8080/",
          "height": 34
        }
      },
      "source": [
        "#create an array of even space between the given range of values\n",
        "np.linspace(0,1,5)"
      ],
      "execution_count": 0,
      "outputs": [
        {
          "output_type": "execute_result",
          "data": {
            "text/plain": [
              "array([0.  , 0.25, 0.5 , 0.75, 1.  ])"
            ]
          },
          "metadata": {
            "tags": []
          },
          "execution_count": 8
        }
      ]
    },
    {
      "cell_type": "code",
      "metadata": {
        "id": "b3o01uUfLtEm",
        "colab_type": "code",
        "outputId": "58886264-5494-4b1f-a90d-fec587c9550f",
        "colab": {
          "base_uri": "https://localhost:8080/",
          "height": 68
        }
      },
      "source": [
        "#create a 3x3 array with mean 0 and standard deviation 1 in a given dimention\n",
        "np.random.normal(0,1,(3,3))"
      ],
      "execution_count": 0,
      "outputs": [
        {
          "output_type": "execute_result",
          "data": {
            "text/plain": [
              "array([[-0.89199935,  0.92686686, -1.73501961],\n",
              "       [ 0.39329297,  1.63667964,  0.09150231],\n",
              "       [ 0.71017252,  1.0411984 , -1.10711877]])"
            ]
          },
          "metadata": {
            "tags": []
          },
          "execution_count": 2
        }
      ]
    },
    {
      "cell_type": "code",
      "metadata": {
        "id": "vCl87WbCLtIJ",
        "colab_type": "code",
        "outputId": "9b7b7ccc-b7b0-4793-a20d-39a7f1aafca5",
        "colab": {
          "base_uri": "https://localhost:8080/",
          "height": 68
        }
      },
      "source": [
        "#create a identity matrix\n",
        "np.eye(3)"
      ],
      "execution_count": 0,
      "outputs": [
        {
          "output_type": "execute_result",
          "data": {
            "text/plain": [
              "array([[1., 0., 0.],\n",
              "       [0., 1., 0.],\n",
              "       [0., 0., 1.]])"
            ]
          },
          "metadata": {
            "tags": []
          },
          "execution_count": 3
        }
      ]
    },
    {
      "cell_type": "code",
      "metadata": {
        "id": "cuMNsas1LtLW",
        "colab_type": "code",
        "outputId": "3b856323-78ae-4b2c-afde-cecc1b88a807",
        "colab": {
          "base_uri": "https://localhost:8080/",
          "height": 34
        }
      },
      "source": [
        "#set a random seed\n",
        "np.random.seed(17)\n",
        "#one dimension\n",
        "x1=np.random.randint(10,size=5) \n",
        "x1\n"
      ],
      "execution_count": 0,
      "outputs": [
        {
          "output_type": "execute_result",
          "data": {
            "text/plain": [
              "array([1, 6, 6, 9, 0])"
            ]
          },
          "metadata": {
            "tags": []
          },
          "execution_count": 8
        }
      ]
    },
    {
      "cell_type": "code",
      "metadata": {
        "id": "BQ3xq6f7LtOe",
        "colab_type": "code",
        "outputId": "7aa77465-84ba-48e5-97c2-925facfd07a5",
        "colab": {
          "base_uri": "https://localhost:8080/",
          "height": 51
        }
      },
      "source": [
        "#two dimension\n",
        "x2=np.random.randint(10, size=(2,3))\n",
        "x2"
      ],
      "execution_count": 0,
      "outputs": [
        {
          "output_type": "execute_result",
          "data": {
            "text/plain": [
              "array([[6, 4, 7],\n",
              "       [4, 7, 1]])"
            ]
          },
          "metadata": {
            "tags": []
          },
          "execution_count": 9
        }
      ]
    },
    {
      "cell_type": "code",
      "metadata": {
        "id": "G8h3Bu5kLtR2",
        "colab_type": "code",
        "outputId": "9a11afcb-6cd5-4a9b-9e6b-1b54874782bd",
        "colab": {
          "base_uri": "https://localhost:8080/",
          "height": 255
        }
      },
      "source": [
        "#three dimention\n",
        "x3=np.random.randint(10,size=(3,4,5))\n",
        "x3"
      ],
      "execution_count": 0,
      "outputs": [
        {
          "output_type": "execute_result",
          "data": {
            "text/plain": [
              "array([[[1, 9, 8, 2, 3],\n",
              "        [6, 6, 9, 9, 1],\n",
              "        [5, 1, 0, 5, 6],\n",
              "        [6, 2, 6, 9, 8]],\n",
              "\n",
              "       [[3, 2, 1, 9, 8],\n",
              "        [3, 2, 7, 8, 9],\n",
              "        [2, 1, 8, 1, 8],\n",
              "        [0, 4, 5, 4, 4]],\n",
              "\n",
              "       [[3, 3, 3, 7, 8],\n",
              "        [5, 1, 9, 4, 9],\n",
              "        [7, 3, 3, 1, 6],\n",
              "        [1, 3, 8, 3, 2]]])"
            ]
          },
          "metadata": {
            "tags": []
          },
          "execution_count": 11
        }
      ]
    },
    {
      "cell_type": "code",
      "metadata": {
        "id": "tfikf6OBwy6p",
        "colab_type": "code",
        "outputId": "3fde8e5d-654e-4e79-ea3e-3c4969494005",
        "colab": {
          "base_uri": "https://localhost:8080/",
          "height": 68
        }
      },
      "source": [
        "print(\"x3 ndim:\",x3.ndim)\n",
        "print(\"x3 shape:\", x3.shape)\n",
        "print(\"x3 size:\",x3.size)"
      ],
      "execution_count": 0,
      "outputs": [
        {
          "output_type": "stream",
          "text": [
            "x3 ndim: 3\n",
            "x3 shape: (3, 4, 5)\n",
            "x3 size: 60\n"
          ],
          "name": "stdout"
        }
      ]
    },
    {
      "cell_type": "markdown",
      "metadata": {
        "id": "SpNXeseRTv0m",
        "colab_type": "text"
      },
      "source": [
        "##### Array Slicing"
      ]
    },
    {
      "cell_type": "code",
      "metadata": {
        "id": "SIdEp671Sx_y",
        "colab_type": "code",
        "outputId": "60702278-9738-4705-d02f-dc79e6cf65dd",
        "colab": {
          "base_uri": "https://localhost:8080/",
          "height": 34
        }
      },
      "source": [
        "x=np.arange(10)\n",
        "x"
      ],
      "execution_count": 0,
      "outputs": [
        {
          "output_type": "execute_result",
          "data": {
            "text/plain": [
              "array([0, 1, 2, 3, 4, 5, 6, 7, 8, 9])"
            ]
          },
          "metadata": {
            "tags": []
          },
          "execution_count": 13
        }
      ]
    },
    {
      "cell_type": "code",
      "metadata": {
        "id": "f55Po25dSyC5",
        "colab_type": "code",
        "outputId": "f5f7f311-15b0-4658-fca5-bc20ccba4bde",
        "colab": {
          "base_uri": "https://localhost:8080/",
          "height": 34
        }
      },
      "source": [
        "#get value from start to 4th position\n",
        "x[:5]"
      ],
      "execution_count": 0,
      "outputs": [
        {
          "output_type": "execute_result",
          "data": {
            "text/plain": [
              "array([0, 1, 2, 3, 4])"
            ]
          },
          "metadata": {
            "tags": []
          },
          "execution_count": 14
        }
      ]
    },
    {
      "cell_type": "code",
      "metadata": {
        "id": "wPLQGKEdSyF5",
        "colab_type": "code",
        "outputId": "a51054ae-2c2e-4894-dbc3-e8e14b4af99e",
        "colab": {
          "base_uri": "https://localhost:8080/",
          "height": 34
        }
      },
      "source": [
        "#get value from 4th position to then end\n",
        "x[4:]"
      ],
      "execution_count": 0,
      "outputs": [
        {
          "output_type": "execute_result",
          "data": {
            "text/plain": [
              "array([4, 5, 6, 7, 8, 9])"
            ]
          },
          "metadata": {
            "tags": []
          },
          "execution_count": 16
        }
      ]
    },
    {
      "cell_type": "code",
      "metadata": {
        "id": "EZHRwYhGSyI6",
        "colab_type": "code",
        "outputId": "17a666ca-e3e1-4256-c1fd-85cbb528c628",
        "colab": {
          "base_uri": "https://localhost:8080/",
          "height": 34
        }
      },
      "source": [
        "#get value from 4th to 6th position\n",
        "x[4:7]"
      ],
      "execution_count": 0,
      "outputs": [
        {
          "output_type": "execute_result",
          "data": {
            "text/plain": [
              "array([4, 5, 6])"
            ]
          },
          "metadata": {
            "tags": []
          },
          "execution_count": 17
        }
      ]
    },
    {
      "cell_type": "code",
      "metadata": {
        "id": "YLil1wEDSyMD",
        "colab_type": "code",
        "outputId": "0b444bea-c9c4-49cb-e7e3-460524aaf750",
        "colab": {
          "base_uri": "https://localhost:8080/",
          "height": 34
        }
      },
      "source": [
        "#get value at even place\n",
        "x[::2]"
      ],
      "execution_count": 0,
      "outputs": [
        {
          "output_type": "execute_result",
          "data": {
            "text/plain": [
              "array([0, 2, 4, 6, 8])"
            ]
          },
          "metadata": {
            "tags": []
          },
          "execution_count": 18
        }
      ]
    },
    {
      "cell_type": "code",
      "metadata": {
        "id": "KM-xE7T-SyPC",
        "colab_type": "code",
        "outputId": "2582845d-7dc4-4499-c0ee-1ad7ad260551",
        "colab": {
          "base_uri": "https://localhost:8080/",
          "height": 34
        }
      },
      "source": [
        "#get elements from first position step by two\n",
        "x[1::2]"
      ],
      "execution_count": 0,
      "outputs": [
        {
          "output_type": "execute_result",
          "data": {
            "text/plain": [
              "array([1, 3, 5, 7, 9])"
            ]
          },
          "metadata": {
            "tags": []
          },
          "execution_count": 20
        }
      ]
    },
    {
      "cell_type": "code",
      "metadata": {
        "id": "duelK7m0ZCgC",
        "colab_type": "code",
        "outputId": "10362d15-75e4-459f-8ffb-cc17b6ba576b",
        "colab": {
          "base_uri": "https://localhost:8080/",
          "height": 34
        }
      },
      "source": [
        "#reverse the array\n",
        "x[::-1]"
      ],
      "execution_count": 0,
      "outputs": [
        {
          "output_type": "execute_result",
          "data": {
            "text/plain": [
              "array([9, 8, 7, 6, 5, 4, 3, 2, 1, 0])"
            ]
          },
          "metadata": {
            "tags": []
          },
          "execution_count": 22
        }
      ]
    },
    {
      "cell_type": "markdown",
      "metadata": {
        "id": "skDuiTJtdX0F",
        "colab_type": "text"
      },
      "source": [
        "##### Array Concatenation"
      ]
    },
    {
      "cell_type": "code",
      "metadata": {
        "id": "JRPg7olTZCjM",
        "colab_type": "code",
        "outputId": "2f42a765-dcc5-4d7d-fed8-4a3eb94396f5",
        "colab": {
          "base_uri": "https://localhost:8080/",
          "height": 34
        }
      },
      "source": [
        "#concatenate two or more arrays at once\n",
        "x=np.array([1,2,3])\n",
        "y=np.array([4,5,6])\n",
        "z=[7,7,7]\n",
        "np.concatenate([x,y,z])"
      ],
      "execution_count": 0,
      "outputs": [
        {
          "output_type": "execute_result",
          "data": {
            "text/plain": [
              "array([1, 2, 3, 4, 5, 6, 7, 7, 7])"
            ]
          },
          "metadata": {
            "tags": []
          },
          "execution_count": 25
        }
      ]
    },
    {
      "cell_type": "code",
      "metadata": {
        "id": "MH2O8XXvZCmQ",
        "colab_type": "code",
        "outputId": "f0e2932f-7a7b-485e-a1ea-312e29393eb2",
        "colab": {
          "base_uri": "https://localhost:8080/",
          "height": 85
        }
      },
      "source": [
        "#create 2-dimensional arrays\n",
        "g=np.array([[1,2,3],[4,5,6]])\n",
        "np.concatenate([g,g])"
      ],
      "execution_count": 0,
      "outputs": [
        {
          "output_type": "execute_result",
          "data": {
            "text/plain": [
              "array([[1, 2, 3],\n",
              "       [4, 5, 6],\n",
              "       [1, 2, 3],\n",
              "       [4, 5, 6]])"
            ]
          },
          "metadata": {
            "tags": []
          },
          "execution_count": 26
        }
      ]
    },
    {
      "cell_type": "code",
      "metadata": {
        "id": "xl-b3lnBZCpi",
        "colab_type": "code",
        "outputId": "575c7838-aca4-465a-cef0-6c19a498d875",
        "colab": {
          "base_uri": "https://localhost:8080/",
          "height": 85
        }
      },
      "source": [
        "#define row-wise or column-wise matrix\n",
        "np.concatenate([g,g],axis=0)"
      ],
      "execution_count": 0,
      "outputs": [
        {
          "output_type": "execute_result",
          "data": {
            "text/plain": [
              "array([[1, 2, 3],\n",
              "       [4, 5, 6],\n",
              "       [1, 2, 3],\n",
              "       [4, 5, 6]])"
            ]
          },
          "metadata": {
            "tags": []
          },
          "execution_count": 27
        }
      ]
    },
    {
      "cell_type": "code",
      "metadata": {
        "id": "6ymLwQORZCsz",
        "colab_type": "code",
        "outputId": "c36ca0b1-ad5c-4f2e-a17b-05149a31c7a9",
        "colab": {
          "base_uri": "https://localhost:8080/",
          "height": 51
        }
      },
      "source": [
        "np.concatenate([g,g],axis=1)"
      ],
      "execution_count": 0,
      "outputs": [
        {
          "output_type": "execute_result",
          "data": {
            "text/plain": [
              "array([[1, 2, 3, 1, 2, 3],\n",
              "       [4, 5, 6, 4, 5, 6]])"
            ]
          },
          "metadata": {
            "tags": []
          },
          "execution_count": 28
        }
      ]
    },
    {
      "cell_type": "markdown",
      "metadata": {
        "id": "wRl3e5T2e6NR",
        "colab_type": "text"
      },
      "source": [
        "###### concatenation works for equal dimension arrays. for non equal dimension arrays can use np.vstack np.hstack"
      ]
    },
    {
      "cell_type": "code",
      "metadata": {
        "id": "ZxlRtITrZCvn",
        "colab_type": "code",
        "outputId": "44c56d17-c0f3-4637-c50f-48b9a39cabb7",
        "colab": {
          "base_uri": "https://localhost:8080/",
          "height": 68
        }
      },
      "source": [
        "x=np.array([1,2,3])\n",
        "g= np.array([[4,5,6],[7,8,9]])\n",
        "np.vstack([x,g])"
      ],
      "execution_count": 0,
      "outputs": [
        {
          "output_type": "execute_result",
          "data": {
            "text/plain": [
              "array([[1, 2, 3],\n",
              "       [4, 5, 6],\n",
              "       [7, 8, 9]])"
            ]
          },
          "metadata": {
            "tags": []
          },
          "execution_count": 30
        }
      ]
    },
    {
      "cell_type": "code",
      "metadata": {
        "id": "x3yjCVGrZCyz",
        "colab_type": "code",
        "outputId": "9f10ebde-6cab-458b-85ef-6919229c2569",
        "colab": {
          "base_uri": "https://localhost:8080/",
          "height": 51
        }
      },
      "source": [
        "z=np.array([[10],[10]])\n",
        "np.hstack([g,z])"
      ],
      "execution_count": 0,
      "outputs": [
        {
          "output_type": "execute_result",
          "data": {
            "text/plain": [
              "array([[ 4,  5,  6, 10],\n",
              "       [ 7,  8,  9, 10]])"
            ]
          },
          "metadata": {
            "tags": []
          },
          "execution_count": 31
        }
      ]
    },
    {
      "cell_type": "code",
      "metadata": {
        "id": "JGAyaFN1ZC1X",
        "colab_type": "code",
        "outputId": "abbb3eab-84f4-464f-a907-dd291cd2bb6d",
        "colab": {
          "base_uri": "https://localhost:8080/",
          "height": 34
        }
      },
      "source": [
        "#split arrays based on pre-defined positions\n",
        "x=np.arange(10)\n",
        "x"
      ],
      "execution_count": 0,
      "outputs": [
        {
          "output_type": "execute_result",
          "data": {
            "text/plain": [
              "array([0, 1, 2, 3, 4, 5, 6, 7, 8, 9])"
            ]
          },
          "metadata": {
            "tags": []
          },
          "execution_count": 33
        }
      ]
    },
    {
      "cell_type": "code",
      "metadata": {
        "id": "yebF5udpgDzw",
        "colab_type": "code",
        "outputId": "1dc8219d-b2f3-4485-929d-d0d9179b6ac8",
        "colab": {
          "base_uri": "https://localhost:8080/",
          "height": 34
        }
      },
      "source": [
        "x1,x2,x3=np.split(x,[3,6])\n",
        "print (x1,x2,x3)"
      ],
      "execution_count": 0,
      "outputs": [
        {
          "output_type": "stream",
          "text": [
            "[0 1 2] [3 4 5] [6 7 8 9]\n"
          ],
          "name": "stdout"
        }
      ]
    },
    {
      "cell_type": "code",
      "metadata": {
        "id": "IU4vs4kQgD3X",
        "colab_type": "code",
        "outputId": "a84f3f92-fa4e-404d-d33b-e262268e2fc1",
        "colab": {
          "base_uri": "https://localhost:8080/",
          "height": 85
        }
      },
      "source": [
        "g=np.arange(16).reshape((4,4))\n",
        "g"
      ],
      "execution_count": 0,
      "outputs": [
        {
          "output_type": "execute_result",
          "data": {
            "text/plain": [
              "array([[ 0,  1,  2,  3],\n",
              "       [ 4,  5,  6,  7],\n",
              "       [ 8,  9, 10, 11],\n",
              "       [12, 13, 14, 15]])"
            ]
          },
          "metadata": {
            "tags": []
          },
          "execution_count": 38
        }
      ]
    },
    {
      "cell_type": "code",
      "metadata": {
        "id": "fgMRBUPxgD60",
        "colab_type": "code",
        "outputId": "2785e166-f7fc-420a-fddc-3a27c613cf68",
        "colab": {
          "base_uri": "https://localhost:8080/",
          "height": 68
        }
      },
      "source": [
        "upper,lower=np.vsplit(g,[2])\n",
        "print(upper, lower)"
      ],
      "execution_count": 0,
      "outputs": [
        {
          "output_type": "stream",
          "text": [
            "[[0 1 2 3]\n",
            " [4 5 6 7]] [[ 8  9 10 11]\n",
            " [12 13 14 15]]\n"
          ],
          "name": "stdout"
        }
      ]
    }
  ]
}